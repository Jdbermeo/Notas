{
 "metadata": {
  "name": ""
 },
 "nbformat": 3,
 "nbformat_minor": 0,
 "worksheets": [
  {
   "cells": [
    {
     "cell_type": "code",
     "collapsed": false,
     "input": [
      "%pylab inline"
     ],
     "language": "python",
     "metadata": {},
     "outputs": [
      {
       "output_type": "stream",
       "stream": "stdout",
       "text": [
        "Populating the interactive namespace from numpy and matplotlib\n"
       ]
      }
     ],
     "prompt_number": 1
    },
    {
     "cell_type": "code",
     "collapsed": false,
     "input": [
      "h=0.1\n",
      "n_points=int((1+h)/h)"
     ],
     "language": "python",
     "metadata": {},
     "outputs": [],
     "prompt_number": 39
    },
    {
     "cell_type": "code",
     "collapsed": false,
     "input": [
      "x=empty(n_points)\n",
      "y=empty(n_points)\n",
      "print x,y"
     ],
     "language": "python",
     "metadata": {},
     "outputs": [
      {
       "output_type": "stream",
       "stream": "stdout",
       "text": [
        "[  3.71950365e-254   1.20953760e-312   9.52776110e-312   8.99726215e-312\n",
        "   1.03341195e-311   1.08646185e-311   1.08646185e-311   1.20953760e-312\n",
        "   1.20953760e-312   1.71934845e-321   4.00193173e-322] [  4.63171393e-253   4.33967177e-314   9.48715846e-253  -4.15950612e-045\n",
        "   6.34874355e-321   1.01855798e-312  -4.17652640e-045   2.21387504e-314\n",
        "   1.02375106e-252  -4.15950612e-045   6.35862486e-321]\n"
       ]
      }
     ],
     "prompt_number": 40
    },
    {
     "cell_type": "code",
     "collapsed": false,
     "input": [
      "def func_prime(x,y):\n",
      "    return (y*y+1)\n"
     ],
     "language": "python",
     "metadata": {},
     "outputs": [],
     "prompt_number": 41
    },
    {
     "cell_type": "code",
     "collapsed": false,
     "input": [
      "y[0]=0\n",
      "for i in range(1,n_points):\n",
      "    k1 = func_prime(x[i-1],y[i-1])\n",
      "    print k1\n",
      "    #primer paso\n",
      "    x1 = x[i-1] + (h/2.0)\n",
      "    y1 = y[i-1] + (h/2.0) * k1\n",
      "    k2 = func_prime(x1, y1)\n",
      "    \n",
      "    #segundo paso\n",
      "    x2 = x[i-1] + (h/2.0)\n",
      "    y2 = y[i-1] + (h/2.0) * k2\n",
      "    k3 = func_prime(x2, y2)\n",
      "    \n",
      "    #tercer paso\n",
      "    x3 = x[i-1] + h\n",
      "    y3 = y[i-1] + h * k3\n",
      "    k4 = func_prime(x3, y3)\n",
      "    \n",
      "    #cuarto paso\n",
      "    average_k = (1.0/6.0)*(k1 + 2.0*k2 + 2.0*k3 + k4)\n",
      "    \n",
      "    x[i] = x[i-1] + h\n",
      "    y[i] = y[i-1] + h * average_k\n"
     ],
     "language": "python",
     "metadata": {},
     "outputs": [
      {
       "output_type": "stream",
       "stream": "stdout",
       "text": [
        "1.0\n",
        "1.01006702977\n",
        "1.04109129473\n",
        "1.09568878524\n",
        "1.17875391481\n",
        "1.29844621127\n",
        "1.4680431018\n",
        "1.70945003413\n",
        "2.06015659617\n",
        "2.58800015785\n"
       ]
      }
     ],
     "prompt_number": 42
    },
    {
     "cell_type": "code",
     "collapsed": false,
     "input": [
      "plot(x,y, 'ko')\n",
      "plot(x,tan(x))\n",
      "plt.xlabel('x')\n",
      "plt.ylabel('y(x)')\n"
     ],
     "language": "python",
     "metadata": {},
     "outputs": [
      {
       "metadata": {},
       "output_type": "pyout",
       "prompt_number": 43,
       "text": [
        "<matplotlib.text.Text at 0xb718c2c>"
       ]
      },
      {
       "metadata": {},
       "output_type": "display_data",
       "png": "[encoded data removed]",
       "text": [
        "<matplotlib.figure.Figure at 0xb5947ac>"
       ]
      }
     ],
     "prompt_number": 43
    },
    {
     "cell_type": "code",
     "collapsed": false,
     "input": [
      "error = empty(n_points)\n",
      "for i in range(1,n_points):\n",
      "    error[i]=(tan(h*i)-y[i])"
     ],
     "language": "python",
     "metadata": {},
     "outputs": [],
     "prompt_number": 48
    },
    {
     "cell_type": "code",
     "collapsed": false,
     "input": [
      "plot(x,error, 'ko')\n",
      "plt.xlabel('$x$', size=30)\n",
      "plt.ylabel('$y_{\\mathrm{true}}-y_{\\mathrm{euler}}$',size=30)"
     ],
     "language": "python",
     "metadata": {},
     "outputs": [
      {
       "metadata": {},
       "output_type": "pyout",
       "prompt_number": 51,
       "text": [
        "<matplotlib.text.Text at 0xb827d0c>"
       ]
      },
      {
       "metadata": {},
       "output_type": "display_data",
       "png": "[encoded data removed]",
       "text": [
        "<matplotlib.figure.Figure at 0xbf752ec>"
       ]
      }
     ],
     "prompt_number": 51
    },
    {
     "cell_type": "code",
     "collapsed": false,
     "input": [],
     "language": "python",
     "metadata": {},
     "outputs": []
    }
   ],
   "metadata": {}
  }
 ]
}