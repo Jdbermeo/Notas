{
 "metadata": {
  "name": "MCMCgaussian1D"
 }, 
 "nbformat": 2, 
 "worksheets": [
  {
   "cells": [
    {
     "cell_type": "code", 
     "collapsed": false, 
     "input": [
      "%pylab inline"
     ], 
     "language": "python", 
     "outputs": [
      {
       "output_type": "stream", 
       "stream": "stdout", 
       "text": [
        "", 
        "Welcome to pylab, a matplotlib-based Python environment [backend: module://IPython.zmq.pylab.backend_inline].", 
        "For more information, type 'help(pylab)'."
       ]
      }
     ], 
     "prompt_number": 1
    }, 
    {
     "cell_type": "code", 
     "collapsed": true, 
     "input": [
      "x = linspace(-4.0,45,1000)", 
      "def fx(x):", 
      "    return exp(-((x-30.0)**2)/100)"
     ], 
     "language": "python", 
     "outputs": [], 
     "prompt_number": 29
    }, 
    {
     "cell_type": "code", 
     "collapsed": false, 
     "input": [
      "x_walk = empty((0))", 
      "x_walk = append(x_walk,8*(random.random()-0.5))"
     ], 
     "language": "python", 
     "outputs": [], 
     "prompt_number": 31
    }, 
    {
     "cell_type": "code", 
     "collapsed": false, 
     "input": [
      "n_iterations = 2000000 #this is the number of iterations I want to make", 
      "for i in range(n_iterations):", 
      "    #genera el numero aleatorio nuevo a comparar", 
      "    x_prime = np.random.normal(x_walk[i], 0.1) #0.1 is the sigma in the normal distribution, ", 
      "    alpha = fx(x_prime)/fx(x_walk[i])", 
      "    if(alpha>=1.0):", 
      "        x_walk  = append(x_walk,x_prime)", 
      "    else:", 
      "        beta = random.random()", 
      "        if(beta<=alpha):", 
      "            x_walk = append(x_walk,x_prime)", 
      "        else:", 
      "            x_walk = append(x_walk,x_walk[i])"
     ], 
     "language": "python", 
     "outputs": [], 
     "prompt_number": "*"
    }, 
    {
     "cell_type": "code", 
     "collapsed": false, 
     "input": [
      "f = fx(x)", 
      "norm = sum(f*(x[1]-x[0]))", 
      "plot(x,f/norm,color = 'r')", 
      "count, bins, ignored = plt.hist(x_walk, 1000, normed=True)"
     ], 
     "language": "python", 
     "outputs": [], 
     "prompt_number": "*"
    }, 
    {
     "cell_type": "code", 
     "collapsed": true, 
     "input": [], 
     "language": "python", 
     "outputs": []
    }
   ]
  }
 ]
}